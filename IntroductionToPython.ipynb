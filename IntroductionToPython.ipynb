{
 "cells": [
  {
   "cell_type": "code",
   "execution_count": 1,
   "id": "2eeef5e5",
   "metadata": {},
   "outputs": [],
   "source": [
    "name = \"Sarvesh\"\n",
    "place = \"Navi Mumbai\""
   ]
  },
  {
   "cell_type": "code",
   "execution_count": 5,
   "id": "4d53b5ca",
   "metadata": {},
   "outputs": [
    {
     "name": "stdout",
     "output_type": "stream",
     "text": [
      "My name is  Sarvesh I am from  Navi Mumbai\n"
     ]
    }
   ],
   "source": [
    "print(\"My name is \",name,\"I am from \",place)"
   ]
  },
  {
   "cell_type": "code",
   "execution_count": 6,
   "id": "2d56db7a",
   "metadata": {},
   "outputs": [],
   "source": [
    " kg_to_pound = 2.20462                            "
   ]
  },
  {
   "cell_type": "code",
   "execution_count": 10,
   "id": "9d669394",
   "metadata": {},
   "outputs": [
    {
     "name": "stdout",
     "output_type": "stream",
     "text": [
      "50\n",
      "110.231\n"
     ]
    }
   ],
   "source": [
    "# Sarvesh wrote this code \n",
    "#weight in kg\n",
    "weight_kg = 50\n",
    "#weight in pound\n",
    "weight_pound= weight_kg*kg_to_pound\n",
    "print(weight_kg)\n",
    "print(weight_pound)"
   ]
  },
  {
   "cell_type": "code",
   "execution_count": 11,
   "id": "bf486404",
   "metadata": {},
   "outputs": [
    {
     "name": "stdout",
     "output_type": "stream",
     "text": [
      "1020\n"
     ]
    }
   ],
   "source": [
    "y=\"10\"\n",
    "z=\"20\"\n",
    "x=y+z\n",
    "print(x)"
   ]
  },
  {
   "cell_type": "code",
   "execution_count": 13,
   "id": "7c99dd59",
   "metadata": {},
   "outputs": [
    {
     "name": "stdout",
     "output_type": "stream",
     "text": [
      "Sarvesh Patil\n"
     ]
    }
   ],
   "source": [
    "first_name =\"Sarvesh\"\n",
    "last_name = \"Patil\"\n",
    "full_name = first_name+\" \"+last_name\n",
    "print(full_name)"
   ]
  },
  {
   "cell_type": "code",
   "execution_count": 14,
   "id": "915c483e",
   "metadata": {},
   "outputs": [
    {
     "name": "stdout",
     "output_type": "stream",
     "text": [
      "Lets wait for SALE\n"
     ]
    }
   ],
   "source": [
    "discount = 20\n",
    "if discount>25:\n",
    "    print(\"Lets go shopping\")\n",
    "else:\n",
    "    print(\"Lets wait for SALE\")"
   ]
  },
  {
   "cell_type": "code",
   "execution_count": 17,
   "id": "2e3acaa5",
   "metadata": {},
   "outputs": [
    {
     "name": "stdout",
     "output_type": "stream",
     "text": [
      "I will spend all my money\n"
     ]
    }
   ],
   "source": [
    "## if discount > 25 : I will spend all my money \n",
    "## if discount >15 : I will spend money later \n",
    "## else : I will not spend money\n",
    "                              \n",
    "discount = 30\n",
    "\n",
    "if discount > 25:\n",
    "    print(\"I will spend all my money\")\n",
    "elif discount>15:\n",
    "    print(\"I will spend all my money later and go broke\")\n",
    "else :\n",
    "    print(\"I will not go shopping\")"
   ]
  },
  {
   "cell_type": "code",
   "execution_count": 19,
   "id": "3515db8c",
   "metadata": {},
   "outputs": [
    {
     "name": "stdout",
     "output_type": "stream",
     "text": [
      "I make predictive models\n"
     ]
    }
   ],
   "source": [
    "profession = \"Data Scientist\"\n",
    "# Data Engineer\n",
    "# Full Stack Dev\n",
    "if profession== \"Data Scientist\":\n",
    "    print(\"I make predictive models\") # Data Scientist\n",
    "elif profession == \"Data Engineer\":\n",
    "    print(\" I make data pipeline\") # Data Engineer\n",
    "elif profession == \"Full Stack Dev\":\n",
    "    print(\" I make web apps\") # Full Stack Dev\n"
   ]
  },
  {
   "cell_type": "code",
   "execution_count": 1,
   "id": "258c925c",
   "metadata": {},
   "outputs": [
    {
     "name": "stdout",
     "output_type": "stream",
     "text": [
      "<class 'int'>\n",
      "100\n"
     ]
    }
   ],
   "source": [
    "x=10\n",
    "print(type(x))\n",
    "print(x*10)"
   ]
  },
  {
   "cell_type": "code",
   "execution_count": 7,
   "id": "02843a9f",
   "metadata": {},
   "outputs": [
    {
     "name": "stdout",
     "output_type": "stream",
     "text": [
      "Let's Go !\n",
      "Let's Go !\n",
      "Let's Go !\n",
      "Let's Go !\n",
      "Let's Go !\n",
      "Let's Go !\n",
      "Let's Go !\n",
      "Let's Go !\n",
      "Let's Go !\n",
      "Let's Go !\n",
      "Out of loop\n"
     ]
    }
   ],
   "source": [
    "x=1\n",
    "while x<=10:\n",
    "    print(\"Let's Go !\")\n",
    "    x=x+1\n",
    "print(\"Out of loop\")   "
   ]
  },
  {
   "cell_type": "code",
   "execution_count": 8,
   "id": "1bdcb0f8",
   "metadata": {},
   "outputs": [
    {
     "name": "stdout",
     "output_type": "stream",
     "text": [
      "<class 'list'>\n",
      "<class 'list'>\n"
     ]
    }
   ],
   "source": [
    "numbers = [50,69,45,78,100,125,35,28]\n",
    "print(type(numbers))\n",
    "friends = [\"Rohit\",\"Kunal\",\"Shekhar\",\"Soumya\"]\n",
    "print(type(friends))"
   ]
  },
  {
   "cell_type": "code",
   "execution_count": 11,
   "id": "66c0a138",
   "metadata": {},
   "outputs": [
    {
     "name": "stdout",
     "output_type": "stream",
     "text": [
      "8\n"
     ]
    }
   ],
   "source": [
    "length = len(numbers)\n",
    "print(length)"
   ]
  },
  {
   "cell_type": "code",
   "execution_count": 13,
   "id": "3fa4639d",
   "metadata": {},
   "outputs": [
    {
     "name": "stdout",
     "output_type": "stream",
     "text": [
      "Smallest Number is  28\n"
     ]
    }
   ],
   "source": [
    "smallest_number = 99999\n",
    "for number in numbers :\n",
    "    if(number < smallest_number):\n",
    "        smallest_number=number\n",
    "print(\"Smallest Number is \",smallest_number)"
   ]
  },
  {
   "cell_type": "code",
   "execution_count": 20,
   "id": "5043c88a",
   "metadata": {},
   "outputs": [
    {
     "name": "stdout",
     "output_type": "stream",
     "text": [
      "I have found Delhi\n",
      "I am going to  Mumbai\n"
     ]
    }
   ],
   "source": [
    "places =[\"Delhi\",\"Mumbai\",\"Paris\", \"New York\" ,\"LA\"]\n",
    "my_fav_place = \"Mumbai\"\n",
    "for place in places:\n",
    "    if my_fav_place == place:\n",
    "        print(\"I am going to \",place)\n",
    "        break\n",
    "    elif place== \"Delhi\":\n",
    "        print(\"I have found Delhi\")\n",
    "        continue\n",
    "    else:\n",
    "        print(\"I will keep searching\",place)"
   ]
  },
  {
   "cell_type": "code",
   "execution_count": 21,
   "id": "fd339ffa",
   "metadata": {},
   "outputs": [
    {
     "name": "stdout",
     "output_type": "stream",
     "text": [
      "69\n",
      "78\n",
      "100\n",
      "125\n"
     ]
    }
   ],
   "source": [
    "for number in numbers:\n",
    "    if number>50:\n",
    "        print(number)"
   ]
  },
  {
   "cell_type": "code",
   "execution_count": 26,
   "id": "67581755",
   "metadata": {},
   "outputs": [
    {
     "name": "stdout",
     "output_type": "stream",
     "text": [
      "8\n"
     ]
    }
   ],
   "source": [
    "count =0\n",
    "for number in numbers:\n",
    "    count+=1\n",
    "print(count)"
   ]
  },
  {
   "cell_type": "code",
   "execution_count": 1,
   "id": "6664c88a",
   "metadata": {},
   "outputs": [
    {
     "name": "stdout",
     "output_type": "stream",
     "text": [
      "Enter your date of birth : 26/09/2002\n",
      "26/09/2002\n"
     ]
    }
   ],
   "source": [
    "DOB = input(\"Enter your date of birth : \")\n",
    "print(DOB)"
   ]
  },
  {
   "cell_type": "code",
   "execution_count": 7,
   "id": "fa77d947",
   "metadata": {},
   "outputs": [
    {
     "name": "stdout",
     "output_type": "stream",
     "text": [
      "Enter first number : 5 \n",
      "Enter second number : 10\n",
      "Sum of numbers is :  15\n"
     ]
    }
   ],
   "source": [
    "# input inbuilt func will always return string value\n",
    "\n",
    "num1= input(\"Enter first number : \")\n",
    "num1=int(num1)\n",
    "num2 = input(\"Enter second number : \")\n",
    "num2 = int(num2)\n",
    "sum =num1+num2\n",
    "print(\"Sum of numbers is : \",sum)"
   ]
  },
  {
   "cell_type": "code",
   "execution_count": 9,
   "id": "e6f30434",
   "metadata": {},
   "outputs": [
    {
     "name": "stdout",
     "output_type": "stream",
     "text": [
      "Enter price : 100\n",
      "Discount price is :  90.0\n"
     ]
    }
   ],
   "source": [
    "price = input(\"Enter price : \")\n",
    "price= float(price)\n",
    "discount = 10\n",
    "discount_price = price - (discount/100)*price\n",
    "print(\"Discount price is : \", discount_price)"
   ]
  },
  {
   "cell_type": "code",
   "execution_count": 15,
   "id": "37e4d59b",
   "metadata": {},
   "outputs": [
    {
     "name": "stdout",
     "output_type": "stream",
     "text": [
      "Enter the actual price : 50\n",
      "The discounted price is 45.0\n",
      "Enter Stop/Continue : 40\n",
      "Enter the actual price : 50\n",
      "The discounted price is 45.0\n",
      "Enter Stop/Continue : Stop\n",
      "Total bill is :  90.0\n"
     ]
    }
   ],
   "source": [
    "total_price =0\n",
    "x=1\n",
    "while(x != 0):\n",
    "    price= input(\"Enter the actual price : \")\n",
    "    price = float(price)\n",
    "    dis_price = 0.9 * price\n",
    "    print(\"The discounted price is\",dis_price)\n",
    "    total_price += dis_price\n",
    "    check=input(\"Enter Stop/Continue : \")\n",
    "    if check == \"Stop\":\n",
    "        break\n",
    "    \n",
    "print(\"Total bill is : \",total_price)\n"
   ]
  },
  {
   "cell_type": "code",
   "execution_count": 16,
   "id": "75851648",
   "metadata": {},
   "outputs": [],
   "source": [
    "def greeting():\n",
    "    print(\"Hello to the world of python\")"
   ]
  },
  {
   "cell_type": "code",
   "execution_count": 17,
   "id": "f8dc0c5c",
   "metadata": {},
   "outputs": [
    {
     "name": "stdout",
     "output_type": "stream",
     "text": [
      "Hello to the world of python\n"
     ]
    }
   ],
   "source": [
    "greeting()"
   ]
  },
  {
   "cell_type": "code",
   "execution_count": 28,
   "id": "93e6ef30",
   "metadata": {},
   "outputs": [
    {
     "name": "stdout",
     "output_type": "stream",
     "text": [
      "Discounted price is :  90.0\n"
     ]
    }
   ],
   "source": [
    "def get_discount_price(price,discount):\n",
    "    price=float(price)\n",
    "    discount=float(discount)\n",
    "    discounted_price= price - (discount/100)*price\n",
    "    return discounted_price\n",
    "output= get_discount_price(100,10)\n",
    "print(\"Discounted price is : \",output)"
   ]
  },
  {
   "cell_type": "code",
   "execution_count": 27,
   "id": "ed5a3146",
   "metadata": {},
   "outputs": [
    {
     "name": "stdout",
     "output_type": "stream",
     "text": [
      "Discounted price is :  90.0\n"
     ]
    }
   ],
   "source": [
    "# price=input(\"Enter price :\")\n",
    "# discount=input(\"Enter Discount : \")\n",
    "output= get_discount_price(100,10)\n",
    "print(\"Discounted price is : \",output)"
   ]
  },
  {
   "cell_type": "code",
   "execution_count": 21,
   "id": "5dfc4b31",
   "metadata": {},
   "outputs": [
    {
     "name": "stdout",
     "output_type": "stream",
     "text": [
      "Enter a number :66666666\n",
      "3\n"
     ]
    }
   ],
   "source": [
    "num = input(\"Enter a number :\")\n",
    "if(num.isdigit() == False):\n",
    "    print(\"Invalid input\")\n",
    "\n",
    "else:\n",
    "    num = int(num)\n",
    "    if(num > 0):    \n",
    "        \n",
    "        count=0\n",
    "        while(True):\n",
    "            sum=0\n",
    "            if(num<10):\n",
    "                break\n",
    "            else:\n",
    "                while(num>0):\n",
    "                    sum += int(num%10)\n",
    "                    num = int(num/10)\n",
    "    \n",
    "            count+=1\n",
    "            num=sum\n",
    "    \n",
    "        print(count)\n",
    "        \n",
    "    else:\n",
    "        print(\"Invalid input\")"
   ]
  },
  {
   "cell_type": "code",
   "execution_count": null,
   "id": "dd185084",
   "metadata": {},
   "outputs": [],
   "source": []
  }
 ],
 "metadata": {
  "kernelspec": {
   "display_name": "Python 3 (ipykernel)",
   "language": "python",
   "name": "python3"
  },
  "language_info": {
   "codemirror_mode": {
    "name": "ipython",
    "version": 3
   },
   "file_extension": ".py",
   "mimetype": "text/x-python",
   "name": "python",
   "nbconvert_exporter": "python",
   "pygments_lexer": "ipython3",
   "version": "3.9.13"
  }
 },
 "nbformat": 4,
 "nbformat_minor": 5
}
