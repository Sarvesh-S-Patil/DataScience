{
 "cells": [
  {
   "cell_type": "code",
   "execution_count": 1,
   "id": "47397309",
   "metadata": {},
   "outputs": [
    {
     "name": "stdout",
     "output_type": "stream",
     "text": [
      "I am Sarvesh\n"
     ]
    }
   ],
   "source": [
    "print(\"I am Sarvesh\")"
   ]
  },
  {
   "cell_type": "code",
   "execution_count": 2,
   "id": "6e78701f",
   "metadata": {},
   "outputs": [
    {
     "name": "stdout",
     "output_type": "stream",
     "text": [
      "Mumbai\n"
     ]
    }
   ],
   "source": [
    "place=\"Mumbai\"\n",
    "print(place)\n"
   ]
  },
  {
   "cell_type": "code",
   "execution_count": 3,
   "id": "f9f47661",
   "metadata": {},
   "outputs": [
    {
     "name": "stdout",
     "output_type": "stream",
     "text": [
      "<class 'str'>\n"
     ]
    }
   ],
   "source": [
    "print(type(place))"
   ]
  },
  {
   "cell_type": "code",
   "execution_count": 4,
   "id": "b033accd",
   "metadata": {},
   "outputs": [
    {
     "name": "stdout",
     "output_type": "stream",
     "text": [
      "6\n"
     ]
    }
   ],
   "source": [
    "print(len(place))"
   ]
  },
  {
   "cell_type": "code",
   "execution_count": 5,
   "id": "7f2fd815",
   "metadata": {},
   "outputs": [
    {
     "name": "stdout",
     "output_type": "stream",
     "text": [
      "b\n"
     ]
    }
   ],
   "source": [
    "print(place[3])"
   ]
  },
  {
   "cell_type": "code",
   "execution_count": 6,
   "id": "ad43b074",
   "metadata": {},
   "outputs": [
    {
     "name": "stdout",
     "output_type": "stream",
     "text": [
      "i\n"
     ]
    }
   ],
   "source": [
    "print(place[len(place)-1])"
   ]
  },
  {
   "cell_type": "code",
   "execution_count": 7,
   "id": "9b72ad09",
   "metadata": {},
   "outputs": [
    {
     "name": "stdout",
     "output_type": "stream",
     "text": [
      "M\n",
      "u\n",
      "m\n",
      "b\n",
      "a\n",
      "i\n"
     ]
    }
   ],
   "source": [
    "for alphabet in place:\n",
    "    print(alphabet)"
   ]
  },
  {
   "cell_type": "code",
   "execution_count": 8,
   "id": "62b0c58f",
   "metadata": {},
   "outputs": [
    {
     "name": "stdout",
     "output_type": "stream",
     "text": [
      "Welcome to  Banglore\n",
      "Mumbai\n"
     ]
    }
   ],
   "source": [
    "place_val = \"Mumbai\"\n",
    "def greetings():\n",
    "    place_val=\"Banglore\"\n",
    "    print(\"Welcome to \",place_val)\n",
    "greetings()\n",
    "print(place_val)"
   ]
  },
  {
   "cell_type": "code",
   "execution_count": 9,
   "id": "2e20999c",
   "metadata": {},
   "outputs": [
    {
     "name": "stdout",
     "output_type": "stream",
     "text": [
      "h\n",
      "m\n",
      "e\n",
      "d\n",
      "d\n"
     ]
    }
   ],
   "source": [
    "city=\"Ahmedabad\"\n",
    "for alphabet in city:\n",
    "    if(alphabet > 'b'):\n",
    "        print(alphabet)"
   ]
  },
  {
   "cell_type": "code",
   "execution_count": 10,
   "id": "ad9039a8",
   "metadata": {},
   "outputs": [
    {
     "name": "stdout",
     "output_type": "stream",
     "text": [
      "bad\n"
     ]
    }
   ],
   "source": [
    " print(city[6:9])"
   ]
  },
  {
   "cell_type": "code",
   "execution_count": 11,
   "id": "e2243c8d",
   "metadata": {},
   "outputs": [
    {
     "name": "stdout",
     "output_type": "stream",
     "text": [
      "edabad\n"
     ]
    }
   ],
   "source": [
    "print(city[3:20])"
   ]
  },
  {
   "cell_type": "code",
   "execution_count": 12,
   "id": "b92323ad",
   "metadata": {},
   "outputs": [],
   "source": [
    "city=\"Mumbai\""
   ]
  },
  {
   "cell_type": "code",
   "execution_count": 13,
   "id": "f8de5b46",
   "metadata": {},
   "outputs": [
    {
     "name": "stdout",
     "output_type": "stream",
     "text": [
      "i\n"
     ]
    }
   ],
   "source": [
    "print(city[-1])"
   ]
  },
  {
   "cell_type": "code",
   "execution_count": 14,
   "id": "b95312cc",
   "metadata": {},
   "outputs": [
    {
     "name": "stdout",
     "output_type": "stream",
     "text": [
      "iabmuM\n"
     ]
    }
   ],
   "source": [
    "print(city[-1:-10:-1])"
   ]
  },
  {
   "cell_type": "code",
   "execution_count": 15,
   "id": "30cc5bb9",
   "metadata": {},
   "outputs": [
    {
     "data": {
      "text/plain": [
       "'Mumbai'"
      ]
     },
     "execution_count": 15,
     "metadata": {},
     "output_type": "execute_result"
    }
   ],
   "source": [
    "city"
   ]
  },
  {
   "cell_type": "code",
   "execution_count": 17,
   "id": "57fa0bdb",
   "metadata": {},
   "outputs": [
    {
     "name": "stdout",
     "output_type": "stream",
     "text": [
      "i\n",
      "a\n",
      "b\n",
      "m\n",
      "u\n",
      "M\n"
     ]
    }
   ],
   "source": [
    "counter = -1\n",
    "while counter >= len(city)*-1:\n",
    "    print(city[counter])\n",
    "    counter = counter-1"
   ]
  },
  {
   "cell_type": "code",
   "execution_count": 20,
   "id": "9a1f1463",
   "metadata": {},
   "outputs": [],
   "source": [
    "city=\"Bangalore\""
   ]
  },
  {
   "cell_type": "code",
   "execution_count": 21,
   "id": "b3bbfe60",
   "metadata": {},
   "outputs": [
    {
     "data": {
      "text/plain": [
       "True"
      ]
     },
     "execution_count": 21,
     "metadata": {},
     "output_type": "execute_result"
    }
   ],
   "source": [
    "'lore' in city"
   ]
  },
  {
   "cell_type": "code",
   "execution_count": 22,
   "id": "f03bb6ef",
   "metadata": {},
   "outputs": [
    {
     "data": {
      "text/plain": [
       "False"
      ]
     },
     "execution_count": 22,
     "metadata": {},
     "output_type": "execute_result"
    }
   ],
   "source": [
    "'mang' in city"
   ]
  },
  {
   "cell_type": "code",
   "execution_count": 25,
   "id": "c7a6ded7",
   "metadata": {},
   "outputs": [
    {
     "data": {
      "text/plain": [
       "False"
      ]
     },
     "execution_count": 25,
     "metadata": {},
     "output_type": "execute_result"
    }
   ],
   "source": [
    "'bang' in city ## case sensitive"
   ]
  },
  {
   "cell_type": "code",
   "execution_count": 26,
   "id": "cbf3f526",
   "metadata": {},
   "outputs": [
    {
     "data": {
      "text/plain": [
       "False"
      ]
     },
     "execution_count": 26,
     "metadata": {},
     "output_type": "execute_result"
    }
   ],
   "source": [
    "'Bang ' in city ## also checks for spaces"
   ]
  },
  {
   "cell_type": "code",
   "execution_count": 27,
   "id": "6ae1a33f",
   "metadata": {},
   "outputs": [
    {
     "name": "stdout",
     "output_type": "stream",
     "text": [
      "Message from Sarvesh\n"
     ]
    }
   ],
   "source": [
    "message = \"microsoft.smtp.message.402 Sarvesh Mon Dec 11 2022 Hello We will study Strings today \"\n",
    "\n",
    "if 'Sarvesh' in message:\n",
    "    print(\"Message from Sarvesh\")\n",
    "else:\n",
    "    print(\"Message not from Sarvesh\")"
   ]
  },
  {
   "cell_type": "markdown",
   "id": "559859e3",
   "metadata": {},
   "source": [
    "# Input from user \n",
    "# who is trying to guess your favourite food\n",
    "# line =\"I love oranges from Nagpur\""
   ]
  },
  {
   "cell_type": "code",
   "execution_count": 31,
   "id": "da6b229b",
   "metadata": {},
   "outputs": [
    {
     "name": "stdout",
     "output_type": "stream",
     "text": [
      "Enter your favourite food : mango\n",
      "This, is not my favourite food\n"
     ]
    }
   ],
   "source": [
    "line=\"I love oranges from Nagpur\"\n",
    "favourite_food = input(\"Enter your favourite food : \")\n",
    "if favourite_food in line:\n",
    "    print(\"Yes,\",favourite_food,\" are my favourite food\")\n",
    "else:\n",
    "    print(\"This, is not my favourite food\")"
   ]
  },
  {
   "cell_type": "code",
   "execution_count": 32,
   "id": "b57bb61f",
   "metadata": {},
   "outputs": [
    {
     "data": {
      "text/plain": [
       "'Mumbai'"
      ]
     },
     "execution_count": 32,
     "metadata": {},
     "output_type": "execute_result"
    }
   ],
   "source": [
    "place"
   ]
  },
  {
   "cell_type": "code",
   "execution_count": 34,
   "id": "ea04cefe",
   "metadata": {},
   "outputs": [
    {
     "data": {
      "text/plain": [
       "'MUMBAI'"
      ]
     },
     "execution_count": 34,
     "metadata": {},
     "output_type": "execute_result"
    }
   ],
   "source": [
    "place.upper()"
   ]
  },
  {
   "cell_type": "code",
   "execution_count": 35,
   "id": "2745f26c",
   "metadata": {},
   "outputs": [
    {
     "data": {
      "text/plain": [
       "'Mumbai'"
      ]
     },
     "execution_count": 35,
     "metadata": {},
     "output_type": "execute_result"
    }
   ],
   "source": [
    "place"
   ]
  },
  {
   "cell_type": "code",
   "execution_count": 37,
   "id": "c869c2ab",
   "metadata": {},
   "outputs": [
    {
     "data": {
      "text/plain": [
       "'mumbai'"
      ]
     },
     "execution_count": 37,
     "metadata": {},
     "output_type": "execute_result"
    }
   ],
   "source": [
    "place.lower()"
   ]
  },
  {
   "cell_type": "code",
   "execution_count": 38,
   "id": "fefeef9d",
   "metadata": {},
   "outputs": [
    {
     "name": "stdout",
     "output_type": "stream",
     "text": [
      "Enter your favourite food : Oranges\n",
      "Yes, oranges  are my favourite food\n"
     ]
    }
   ],
   "source": [
    "line=\"I love oranges from Nagpur\"\n",
    "line= line.lower()\n",
    "favourite_food = input(\"Enter your favourite food : \")\n",
    "favourite_food = favourite_food.lower()\n",
    "if favourite_food in line:\n",
    "    print(\"Yes,\",favourite_food,\" are my favourite food\")\n",
    "else:\n",
    "    print(\"This, is not my favourite food\")"
   ]
  },
  {
   "cell_type": "code",
   "execution_count": 39,
   "id": "1aef3ce2",
   "metadata": {},
   "outputs": [],
   "source": [
    "sentence =\"I live in Bangalore\"\n"
   ]
  },
  {
   "cell_type": "code",
   "execution_count": 41,
   "id": "ed388fe9",
   "metadata": {},
   "outputs": [
    {
     "data": {
      "text/plain": [
       "'I live in Mumbai'"
      ]
     },
     "execution_count": 41,
     "metadata": {},
     "output_type": "execute_result"
    }
   ],
   "source": [
    "new_sentence = sentence.replace('Bangalore','Mumbai')\n",
    "new_sentence"
   ]
  },
  {
   "cell_type": "code",
   "execution_count": 42,
   "id": "afeea9ea",
   "metadata": {},
   "outputs": [
    {
     "data": {
      "text/plain": [
       "13"
      ]
     },
     "execution_count": 42,
     "metadata": {},
     "output_type": "execute_result"
    }
   ],
   "source": [
    "sentence.find('gal')"
   ]
  },
  {
   "cell_type": "code",
   "execution_count": 43,
   "id": "4c120e36",
   "metadata": {},
   "outputs": [
    {
     "data": {
      "text/plain": [
       "-1"
      ]
     },
     "execution_count": 43,
     "metadata": {},
     "output_type": "execute_result"
    }
   ],
   "source": [
    "sentence.find('Mumbai')"
   ]
  },
  {
   "cell_type": "code",
   "execution_count": 44,
   "id": "50e74d39",
   "metadata": {},
   "outputs": [],
   "source": [
    "sentence = \"Bangalore : bwd@gov.nic.in Sun Nov 11 2022 22.8|21 End of Data\""
   ]
  },
  {
   "cell_type": "code",
   "execution_count": 51,
   "id": "1625afd3",
   "metadata": {},
   "outputs": [
    {
     "data": {
      "text/plain": [
       "'Bangalore'"
      ]
     },
     "execution_count": 51,
     "metadata": {},
     "output_type": "execute_result"
    }
   ],
   "source": [
    "start_position = sentence.find('Bangalore')\n",
    "end_position = start_position + len('Bangalore')\n",
    "sentence[start_position:end_position]\n"
   ]
  },
  {
   "cell_type": "code",
   "execution_count": 52,
   "id": "249d0edf",
   "metadata": {},
   "outputs": [
    {
     "name": "stdout",
     "output_type": "stream",
     "text": [
      "26\n",
      "9\n"
     ]
    }
   ],
   "source": [
    "place = \"Bangalore                 \"\n",
    "print(len(place))\n",
    "print(len(place.rstrip()))"
   ]
  },
  {
   "cell_type": "code",
   "execution_count": 53,
   "id": "fb3d7f89",
   "metadata": {},
   "outputs": [],
   "source": [
    " place= \"             Banglore\""
   ]
  },
  {
   "cell_type": "code",
   "execution_count": 54,
   "id": "19515276",
   "metadata": {},
   "outputs": [],
   "source": [
    "place= place.lstrip()"
   ]
  },
  {
   "cell_type": "code",
   "execution_count": 55,
   "id": "7dab49f2",
   "metadata": {},
   "outputs": [
    {
     "data": {
      "text/plain": [
       "'Banglore'"
      ]
     },
     "execution_count": 55,
     "metadata": {},
     "output_type": "execute_result"
    }
   ],
   "source": [
    "place"
   ]
  },
  {
   "cell_type": "code",
   "execution_count": 56,
   "id": "d1183906",
   "metadata": {},
   "outputs": [],
   "source": [
    "place = \"         Bangalore       \""
   ]
  },
  {
   "cell_type": "code",
   "execution_count": 58,
   "id": "6fbffae5",
   "metadata": {},
   "outputs": [
    {
     "data": {
      "text/plain": [
       "'Bangalore'"
      ]
     },
     "execution_count": 58,
     "metadata": {},
     "output_type": "execute_result"
    }
   ],
   "source": [
    "place = place.strip()\n",
    "place"
   ]
  },
  {
   "cell_type": "code",
   "execution_count": 65,
   "id": "0c3f8e77",
   "metadata": {},
   "outputs": [
    {
     "name": "stdout",
     "output_type": "stream",
     "text": [
      "bwd@gov.nic.in Sun Nov 11 2022 22.8|21 End of Data\n",
      "14\n",
      "bwd@gov.nic.in\n"
     ]
    }
   ],
   "source": [
    "sentence = \"Bangalore : bwd@gov.nic.in Sun Nov 11 2022 22.8|21 End of Data\"\n",
    "colon_pos = sentence.find(':')\n",
    "sentence_temp=sentence[colon_pos+1 :].strip()\n",
    "print(sentence_temp)\n",
    "space_position = sentence_temp.find(' ')\n",
    "print(space_position)\n",
    "print(sentence_temp[0:space_position])"
   ]
  },
  {
   "cell_type": "code",
   "execution_count": null,
   "id": "b438b682",
   "metadata": {},
   "outputs": [],
   "source": []
  }
 ],
 "metadata": {
  "kernelspec": {
   "display_name": "Python 3 (ipykernel)",
   "language": "python",
   "name": "python3"
  },
  "language_info": {
   "codemirror_mode": {
    "name": "ipython",
    "version": 3
   },
   "file_extension": ".py",
   "mimetype": "text/x-python",
   "name": "python",
   "nbconvert_exporter": "python",
   "pygments_lexer": "ipython3",
   "version": "3.9.13"
  }
 },
 "nbformat": 4,
 "nbformat_minor": 5
}
